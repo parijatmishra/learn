{
 "cells": [
  {
   "cell_type": "markdown",
   "metadata": {},
   "source": [
    "## Importing NumPy"
   ]
  },
  {
   "cell_type": "code",
   "execution_count": 1,
   "metadata": {},
   "outputs": [
    {
     "name": "stdout",
     "output_type": "stream",
     "text": [
      "numpy.__version__: 1.13.3\n"
     ]
    }
   ],
   "source": [
    "import numpy as np\n",
    "print(\"numpy.__version__:\", np.__version__)"
   ]
  },
  {
   "cell_type": "markdown",
   "metadata": {},
   "source": [
    "## Arrays"
   ]
  },
  {
   "cell_type": "markdown",
   "metadata": {},
   "source": [
    "The basic datastructure in numpy is an `ndarray`, a class encapsulating a contiguous block of data, containing multiple elements (like the Python `list` data structure)."
   ]
  },
  {
   "cell_type": "code",
   "execution_count": 2,
   "metadata": {},
   "outputs": [
    {
     "name": "stdout",
     "output_type": "stream",
     "text": [
      "<class 'numpy.ndarray'>\n"
     ]
    },
    {
     "data": {
      "text/plain": [
       "array([1, 2, 3, 4, 5])"
      ]
     },
     "execution_count": 2,
     "metadata": {},
     "output_type": "execute_result"
    }
   ],
   "source": [
    "v = np.array([1,2,3,4,5])\n",
    "print(type(v))\n",
    "v"
   ]
  },
  {
   "cell_type": "markdown",
   "metadata": {},
   "source": [
    "Whereas, Python lists can be heterogeneous:"
   ]
  },
  {
   "cell_type": "code",
   "execution_count": 3,
   "metadata": {},
   "outputs": [
    {
     "name": "stdout",
     "output_type": "stream",
     "text": [
      "<class 'list'>\n"
     ]
    },
    {
     "data": {
      "text/plain": [
       "[1.0, 2, 3.0, '4']"
      ]
     },
     "execution_count": 3,
     "metadata": {},
     "output_type": "execute_result"
    }
   ],
   "source": [
    "# A python array\n",
    "a = [1.0,2,3.0,\"4\"]\n",
    "print(type(a))\n",
    "a"
   ]
  },
  {
   "cell_type": "markdown",
   "metadata": {},
   "source": [
    "## Initializing arrays from Python lists\n",
    "NumPy arrays can be created from Python lists. All elements in an `ndarray` have to be the same type (numpy will upcast where possible):"
   ]
  },
  {
   "cell_type": "code",
   "execution_count": 4,
   "metadata": {},
   "outputs": [
    {
     "data": {
      "text/plain": [
       "array([ 1.,  2.,  3.,  4.])"
      ]
     },
     "execution_count": 4,
     "metadata": {},
     "output_type": "execute_result"
    }
   ],
   "source": [
    "# A numpy ndarray\n",
    "np.array([1.0,2,3.0,4])"
   ]
  },
  {
   "cell_type": "markdown",
   "metadata": {},
   "source": [
    "We can explicitly specify the type of the elements (the `dtype`) of a `ndarray`."
   ]
  },
  {
   "cell_type": "code",
   "execution_count": 5,
   "metadata": {},
   "outputs": [
    {
     "data": {
      "text/plain": [
       "array([ 1.,  2.,  3.,  4.], dtype=float32)"
      ]
     },
     "execution_count": 5,
     "metadata": {},
     "output_type": "execute_result"
    }
   ],
   "source": [
    "np.array([1,2,3,4], dtype=\"float32\")"
   ]
  },
  {
   "cell_type": "markdown",
   "metadata": {},
   "source": [
    "The `dtype` argument can be a string (an internal numpy data type) or a Python built-in type:"
   ]
  },
  {
   "cell_type": "code",
   "execution_count": 6,
   "metadata": {},
   "outputs": [
    {
     "data": {
      "text/plain": [
       "array([ 1.,  2.,  3.,  4.])"
      ]
     },
     "execution_count": 6,
     "metadata": {},
     "output_type": "execute_result"
    }
   ],
   "source": [
    "np.array([1,2,3,4], dtype=float)"
   ]
  },
  {
   "cell_type": "markdown",
   "metadata": {},
   "source": [
    "Numpy arrays can be multi-dimensional, and can be constructed via Python list-of-lists:"
   ]
  },
  {
   "cell_type": "code",
   "execution_count": 7,
   "metadata": {},
   "outputs": [
    {
     "data": {
      "text/plain": [
       "array([[2, 3, 4],\n",
       "       [4, 5, 6],\n",
       "       [6, 7, 8]])"
      ]
     },
     "execution_count": 7,
     "metadata": {},
     "output_type": "execute_result"
    }
   ],
   "source": [
    "np.array([range(i, i + 3) for i in [2, 4, 6]])"
   ]
  },
  {
   "cell_type": "markdown",
   "metadata": {},
   "source": [
    "Note the difference: `a` is a one-dimensional array, and `b` is a two dimensional array:"
   ]
  },
  {
   "cell_type": "code",
   "execution_count": 8,
   "metadata": {},
   "outputs": [
    {
     "name": "stdout",
     "output_type": "stream",
     "text": [
      "a = \n",
      "array([0, 1, 2])\n",
      "b = \n",
      "array([[0],\n",
      "       [1],\n",
      "       [2]])\n"
     ]
    }
   ],
   "source": [
    "a = np.array([i for i in range(3)])\n",
    "b = np.array([[i] for i in range(3)])\n",
    "\n",
    "from pprint import pprint\n",
    "print(\"a = \"); pprint(a)\n",
    "print(\"b = \"); pprint(b)"
   ]
  },
  {
   "cell_type": "markdown",
   "metadata": {},
   "source": [
    "## Initializing arrays from scratch\n",
    "It can be more efficient to use the numpy package method to initialize arrays, especially large ones, without having to create an intermediate Python list. `numpy` contains a number of functions to do this."
   ]
  },
  {
   "cell_type": "code",
   "execution_count": 9,
   "metadata": {},
   "outputs": [
    {
     "data": {
      "text/plain": [
       "array([0, 0, 0, 0, 0, 0, 0, 0, 0, 0])"
      ]
     },
     "execution_count": 9,
     "metadata": {},
     "output_type": "execute_result"
    }
   ],
   "source": [
    "# Create an array filled with zeroes\n",
    "np.zeros(10, dtype=int)"
   ]
  },
  {
   "cell_type": "code",
   "execution_count": 10,
   "metadata": {},
   "outputs": [
    {
     "data": {
      "text/plain": [
       "array([[ 1.,  1.,  1.,  1.,  1.],\n",
       "       [ 1.,  1.,  1.,  1.,  1.],\n",
       "       [ 1.,  1.,  1.,  1.,  1.]])"
      ]
     },
     "execution_count": 10,
     "metadata": {},
     "output_type": "execute_result"
    }
   ],
   "source": [
    "# Create a 2 dimensional array (3x5) filled with ones\n",
    "np.ones((3,5), dtype=float)"
   ]
  },
  {
   "cell_type": "code",
   "execution_count": 11,
   "metadata": {},
   "outputs": [
    {
     "data": {
      "text/plain": [
       "array([[ 3.14159,  3.14159,  3.14159,  3.14159,  3.14159],\n",
       "       [ 3.14159,  3.14159,  3.14159,  3.14159,  3.14159],\n",
       "       [ 3.14159,  3.14159,  3.14159,  3.14159,  3.14159]])"
      ]
     },
     "execution_count": 11,
     "metadata": {},
     "output_type": "execute_result"
    }
   ],
   "source": [
    "# Create an 2 dimensional array filled with a single number\n",
    "np.full((3,5), 3.14159)"
   ]
  },
  {
   "cell_type": "code",
   "execution_count": 12,
   "metadata": {},
   "outputs": [
    {
     "data": {
      "text/plain": [
       "(array([0, 1, 2]), array([ 2.,  3.,  4.]), array([1, 5, 9]))"
      ]
     },
     "execution_count": 12,
     "metadata": {},
     "output_type": "execute_result"
    }
   ],
   "source": [
    "# Create a single-dimensional array (a vector) filled with a linear sequence:\n",
    "np.arange(3), np.arange(2,5.), np.arange(1,10,4)"
   ]
  },
  {
   "cell_type": "code",
   "execution_count": 13,
   "metadata": {},
   "outputs": [
    {
     "data": {
      "text/plain": [
       "array([ 0.  ,  0.25,  0.5 ,  0.75,  1.  ])"
      ]
     },
     "execution_count": 13,
     "metadata": {},
     "output_type": "execute_result"
    }
   ],
   "source": [
    "# Generate a number of values within an interval (e.g., 5 values between 0. and 1.)\n",
    "np.linspace(0, 1, 5)"
   ]
  },
  {
   "cell_type": "code",
   "execution_count": 14,
   "metadata": {},
   "outputs": [
    {
     "data": {
      "text/plain": [
       "array([[ 0.92255706,  0.48366334,  0.47866763,  0.34179756,  0.43868368],\n",
       "       [ 0.98300915,  0.75973829,  0.38357387,  0.14244424,  0.00898861],\n",
       "       [ 0.14835698,  0.82355018,  0.33766153,  0.05875616,  0.17800879]])"
      ]
     },
     "execution_count": 14,
     "metadata": {},
     "output_type": "execute_result"
    }
   ],
   "source": [
    "# Create a 3x5 array of uniformly distributed random values between 0 and 1\n",
    "np.random.random((3, 5))"
   ]
  },
  {
   "cell_type": "code",
   "execution_count": 15,
   "metadata": {},
   "outputs": [
    {
     "data": {
      "text/plain": [
       "array([[ 0.30246066,  0.91764933,  0.93091472,  1.24034179, -0.30107068],\n",
       "       [-0.36521874,  2.44564768, -2.17230966,  0.44238252,  0.9150405 ],\n",
       "       [ 0.61636086, -1.29281959,  0.89521347,  1.39831463,  1.19346925]])"
      ]
     },
     "execution_count": 15,
     "metadata": {},
     "output_type": "execute_result"
    }
   ],
   "source": [
    "# Create a 3x5 array of normally distributed random values, with mean 0 and std 1\n",
    "np.random.normal(0., 1., (3, 5))"
   ]
  },
  {
   "cell_type": "code",
   "execution_count": 16,
   "metadata": {},
   "outputs": [
    {
     "data": {
      "text/plain": [
       "array([[5, 9, 3, 3, 3],\n",
       "       [2, 3, 2, 2, 7],\n",
       "       [2, 0, 2, 2, 2]])"
      ]
     },
     "execution_count": 16,
     "metadata": {},
     "output_type": "execute_result"
    }
   ],
   "source": [
    "# Create a 3x5 array of uniformally random integers in the half-open interval [0, 10]\n",
    "np.random.randint(0, 10, (3, 5))"
   ]
  },
  {
   "cell_type": "code",
   "execution_count": 17,
   "metadata": {},
   "outputs": [
    {
     "data": {
      "text/plain": [
       "array([[ 1.,  0.,  0.],\n",
       "       [ 0.,  1.,  0.],\n",
       "       [ 0.,  0.,  1.]])"
      ]
     },
     "execution_count": 17,
     "metadata": {},
     "output_type": "execute_result"
    }
   ],
   "source": [
    "# Create a 3x3 identity matrix\n",
    "np.eye(3)"
   ]
  },
  {
   "cell_type": "code",
   "execution_count": 18,
   "metadata": {},
   "outputs": [
    {
     "data": {
      "text/plain": [
       "array([ 1.,  1.,  1.])"
      ]
     },
     "execution_count": 18,
     "metadata": {},
     "output_type": "execute_result"
    }
   ],
   "source": [
    "# Create an unitialized array of 3 integers (filled with garbage)\n",
    "np.empty(3)"
   ]
  },
  {
   "cell_type": "markdown",
   "metadata": {},
   "source": [
    "## Creating new arrays with the same shape as another array"
   ]
  },
  {
   "cell_type": "code",
   "execution_count": 95,
   "metadata": {},
   "outputs": [
    {
     "data": {
      "text/plain": [
       "array([[1, 4, 9, 8, 1],\n",
       "       [1, 7, 9, 9, 3],\n",
       "       [6, 7, 2, 0, 3]])"
      ]
     },
     "execution_count": 95,
     "metadata": {},
     "output_type": "execute_result"
    }
   ],
   "source": [
    "M = np.random.randint(0, 10, (3, 5))\n",
    "M"
   ]
  },
  {
   "cell_type": "code",
   "execution_count": 97,
   "metadata": {},
   "outputs": [
    {
     "data": {
      "text/plain": [
       "array([[0, 0, 0, 0, 0],\n",
       "       [0, 0, 0, 0, 0],\n",
       "       [0, 0, 0, 0, 0]])"
      ]
     },
     "execution_count": 97,
     "metadata": {},
     "output_type": "execute_result"
    }
   ],
   "source": [
    "np.zeros_like(M)"
   ]
  },
  {
   "cell_type": "code",
   "execution_count": 98,
   "metadata": {},
   "outputs": [
    {
     "data": {
      "text/plain": [
       "array([[1, 1, 1, 1, 1],\n",
       "       [1, 1, 1, 1, 1],\n",
       "       [1, 1, 1, 1, 1]])"
      ]
     },
     "execution_count": 98,
     "metadata": {},
     "output_type": "execute_result"
    }
   ],
   "source": [
    "np.ones_like(M)"
   ]
  },
  {
   "cell_type": "markdown",
   "metadata": {},
   "source": [
    "## Standard data types"
   ]
  },
  {
   "cell_type": "markdown",
   "metadata": {},
   "source": [
    "numpy suppots a variety of numeric types, similar to C or Fortran.  You can specify the type as a string or a numpy object.  For some types, you can use Python's built in types."
   ]
  },
  {
   "cell_type": "code",
   "execution_count": 19,
   "metadata": {},
   "outputs": [
    {
     "data": {
      "text/plain": [
       "['bools',\n",
       " array([ True], dtype=bool),\n",
       " array([ True], dtype=bool),\n",
       " array([ True], dtype=bool),\n",
       " '------------',\n",
       " 'default int (signed)',\n",
       " array([1]),\n",
       " array([1]),\n",
       " array([1]),\n",
       " '------------',\n",
       " 'C `int` (signed)',\n",
       " array([1], dtype=int32),\n",
       " array([1], dtype=int32),\n",
       " '------------',\n",
       " 'Integer used for indexing (C `ssize_t`, the size of a pointer)',\n",
       " array([1]),\n",
       " array([1]),\n",
       " '------------',\n",
       " 'Signed Integers of various fixed sizes',\n",
       " array([1], dtype=int8),\n",
       " array([1], dtype=int8),\n",
       " array([1], dtype=int16),\n",
       " array([1], dtype=int16),\n",
       " array([1], dtype=int32),\n",
       " array([1], dtype=int32),\n",
       " array([1]),\n",
       " array([1]),\n",
       " '------------',\n",
       " 'Unsigned integers of various fixed sizes',\n",
       " array([1], dtype=uint8),\n",
       " array([1], dtype=uint8),\n",
       " array([1], dtype=uint16),\n",
       " array([1], dtype=uint16),\n",
       " array([1], dtype=uint32),\n",
       " array([1], dtype=uint32),\n",
       " array([1], dtype=uint64),\n",
       " array([1], dtype=uint64),\n",
       " '------------',\n",
       " 'Floating point types',\n",
       " array([ 1.], dtype=float16),\n",
       " array([ 1.], dtype=float16),\n",
       " array([ 1.], dtype=float32),\n",
       " array([ 1.], dtype=float32),\n",
       " array([ 1.]),\n",
       " array([ 1.]),\n",
       " array([ 1.]),\n",
       " array([ 1.]),\n",
       " '------------',\n",
       " 'Complex number types',\n",
       " array([ 1.+0.j], dtype=complex64),\n",
       " array([ 1.+0.j], dtype=complex64),\n",
       " array([ 1.+0.j]),\n",
       " array([ 1.+0.j]),\n",
       " array([ 1.+0.j]),\n",
       " array([ 1.+0.j])]"
      ]
     },
     "execution_count": 19,
     "metadata": {},
     "output_type": "execute_result"
    }
   ],
   "source": [
    "[\n",
    "    \"bools\",\n",
    "    np.ones(1, dtype=np.bool_),\n",
    "    np.ones(1, dtype=bool), # Python type\n",
    "    np.ones(1, dtype=\"bool_\"),\n",
    "    \"------------\",\n",
    "    \"default int (signed)\",\n",
    "    np.ones(1, dtype=np.int_), # Default integer type, same as C `long`, either `int64` or `int32`\n",
    "    np.ones(1, dtype=int), # Python type\n",
    "    np.ones(1, dtype=\"int_\"),\n",
    "    \"------------\",\n",
    "    \"C `int` (signed)\",\n",
    "    np.ones(1, dtype=np.intc), # Same as C int, either `int32` or `int64`\n",
    "    np.ones(1, dtype=\"intc\"),\n",
    "    \"------------\",\n",
    "    \"Integer used for indexing (C `ssize_t`, the size of a pointer)\",\n",
    "    np.ones(1, dtype=np.intp),\n",
    "    np.ones(1, dtype=\"intp\"),\n",
    "    \"------------\",\n",
    "    \"Signed Integers of various fixed sizes\",\n",
    "    np.ones(1, dtype=np.int8),\n",
    "    np.ones(1, dtype=\"int8\"),\n",
    "    np.ones(1, dtype=np.int16),\n",
    "    np.ones(1, dtype=\"int16\"),\n",
    "    np.ones(1, dtype=np.int32),\n",
    "    np.ones(1, dtype=\"int32\"),\n",
    "    np.ones(1, dtype=np.int64),\n",
    "    np.ones(1, dtype=\"int64\"),\n",
    "    \"------------\",\n",
    "    \"Unsigned integers of various fixed sizes\",\n",
    "    np.ones(1, dtype=np.uint8),\n",
    "    np.ones(1, dtype=\"uint8\"),\n",
    "    np.ones(1, dtype=np.uint16),\n",
    "    np.ones(1, dtype=\"uint16\"),\n",
    "    np.ones(1, dtype=np.uint32),\n",
    "    np.ones(1, dtype=\"uint32\"),\n",
    "    np.ones(1, dtype=np.uint64),\n",
    "    np.ones(1, dtype=\"uint64\"),\n",
    "    \"------------\",\n",
    "    \"Floating point types\",\n",
    "    np.ones(1, dtype=np.float16),\n",
    "    np.ones(1, dtype=\"float16\"),\n",
    "    np.ones(1, dtype=np.float32),\n",
    "    np.ones(1, dtype=\"float32\"),\n",
    "    np.ones(1, dtype=np.float_), # Same as float64\n",
    "    np.ones(1, dtype=\"float_\"),\n",
    "    np.ones(1, dtype=np.float64),\n",
    "    np.ones(1, dtype=\"float64\"),\n",
    "    \"------------\",\n",
    "    \"Complex number types\",\n",
    "    np.ones(1, dtype=np.complex64), # two 32-bit floats\n",
    "    np.ones(1, dtype=\"complex64\"),\n",
    "    np.ones(1, dtype=np.complex128), # two 64-bit floats\n",
    "    np.ones(1, dtype=\"complex128\"),\n",
    "    np.ones(1, dtype=np.complex_), # Same as complex128\n",
    "    np.ones(1, dtype=\"complex_\"),\n",
    "]"
   ]
  },
  {
   "cell_type": "markdown",
   "metadata": {},
   "source": [
    "## Array attributes"
   ]
  },
  {
   "cell_type": "code",
   "execution_count": 20,
   "metadata": {},
   "outputs": [
    {
     "name": "stdout",
     "output_type": "stream",
     "text": [
      "x1: ndim: 1 shape: (10,) size: 10 dtype: int64\n",
      "x2: ndim: 2 shape: (3, 4) size: 12 dtype: uint8\n",
      "x3: ndim: 3 shape: (3, 4, 5) size: 60 dtype: int16\n",
      "x3.itemsize: 2 bytes; x3.nbytes= 120 bytes\n"
     ]
    }
   ],
   "source": [
    "np.random.seed(0)\n",
    "x1 = np.arange(10) # One-dimensional array\n",
    "x2 = np.random.randint(10, size=(3, 4), dtype=np.uint8) # Two-dimensional array\n",
    "x3 = np.random.randint(10, size=(3, 4, 5), dtype=np.int16)\n",
    "\n",
    "print(\"x1: ndim:\", x1.ndim, \"shape:\", x1.shape, \"size:\", x1.size, \"dtype:\", x1.dtype)\n",
    "print(\"x2: ndim:\", x2.ndim, \"shape:\", x2.shape, \"size:\", x2.size, \"dtype:\", x2.dtype)\n",
    "print(\"x3: ndim:\", x3.ndim, \"shape:\", x3.shape, \"size:\", x3.size, \"dtype:\", x3.dtype)\n",
    "\n",
    "print(\"x3.itemsize:\", x3.itemsize, \"bytes; x3.nbytes=\", x3.nbytes, \"bytes\")"
   ]
  },
  {
   "cell_type": "markdown",
   "metadata": {},
   "source": [
    "## Array indexing"
   ]
  },
  {
   "cell_type": "code",
   "execution_count": 21,
   "metadata": {},
   "outputs": [
    {
     "name": "stdout",
     "output_type": "stream",
     "text": [
      "x1: [0 1 2 3 4 5 6 7 8 9]\n",
      "x1[0]: 0\n",
      "x1[4]: 4\n",
      "x1[-1]: 9\n",
      "x1[-2]: 8\n",
      "\n",
      "x2: [[4 7 5 6]\n",
      " [6 7 0 1]\n",
      " [8 3 3 2]]\n",
      "x2[2,-2]: 3\n",
      "x2[2,-2]: 58\n"
     ]
    }
   ],
   "source": [
    "print(\"x1:\", x1)\n",
    "print(\"x1[0]:\", x1[0])\n",
    "print(\"x1[4]:\", x1[4])\n",
    "print(\"x1[-1]:\", x1[-1])\n",
    "print(\"x1[-2]:\", x1[-2])\n",
    "print()\n",
    "print(\"x2:\", x2)\n",
    "print(\"x2[2,-2]:\", x2[2,-2])\n",
    "# Assignment\n",
    "x2[2,-2] = 314.159 # Silent truncation of float to dtype of array\n",
    "print(\"x2[2,-2]:\", x2[2,-2]) # 314 % 256 == 58"
   ]
  },
  {
   "cell_type": "markdown",
   "metadata": {},
   "source": [
    "## Array slicing\n",
    "The array slice syntax is `array[start:stop:step]`, where `start` defaults to `0` if omitted, `stop` defaults to *size of array* if omitted, and `step` defaults to `1`."
   ]
  },
  {
   "cell_type": "code",
   "execution_count": 22,
   "metadata": {},
   "outputs": [
    {
     "data": {
      "text/plain": [
       "array([0, 1, 2, 3, 4])"
      ]
     },
     "execution_count": 22,
     "metadata": {},
     "output_type": "execute_result"
    }
   ],
   "source": [
    "x1[:5]"
   ]
  },
  {
   "cell_type": "code",
   "execution_count": 23,
   "metadata": {},
   "outputs": [
    {
     "data": {
      "text/plain": [
       "array([5, 6, 7, 8, 9])"
      ]
     },
     "execution_count": 23,
     "metadata": {},
     "output_type": "execute_result"
    }
   ],
   "source": [
    "x1[5:]"
   ]
  },
  {
   "cell_type": "code",
   "execution_count": 24,
   "metadata": {},
   "outputs": [
    {
     "data": {
      "text/plain": [
       "array([4, 5, 6])"
      ]
     },
     "execution_count": 24,
     "metadata": {},
     "output_type": "execute_result"
    }
   ],
   "source": [
    "x1[4:7]"
   ]
  },
  {
   "cell_type": "code",
   "execution_count": 25,
   "metadata": {},
   "outputs": [
    {
     "data": {
      "text/plain": [
       "array([0, 2, 4, 6, 8])"
      ]
     },
     "execution_count": 25,
     "metadata": {},
     "output_type": "execute_result"
    }
   ],
   "source": [
    "x1[::2] # Every other element"
   ]
  },
  {
   "cell_type": "code",
   "execution_count": 26,
   "metadata": {},
   "outputs": [
    {
     "data": {
      "text/plain": [
       "array([1, 3, 5, 7, 9])"
      ]
     },
     "execution_count": 26,
     "metadata": {},
     "output_type": "execute_result"
    }
   ],
   "source": [
    "x1[1::2] # Every other element, starting at index 1"
   ]
  },
  {
   "cell_type": "markdown",
   "metadata": {},
   "source": [
    "When the step value is negative, the defaults for `start` and `stop` are swapped and the array is traversed in reverse."
   ]
  },
  {
   "cell_type": "code",
   "execution_count": 27,
   "metadata": {},
   "outputs": [
    {
     "data": {
      "text/plain": [
       "array([9, 8, 7, 6, 5, 4, 3, 2, 1, 0])"
      ]
     },
     "execution_count": 27,
     "metadata": {},
     "output_type": "execute_result"
    }
   ],
   "source": [
    "x1[::-1] # All elements, reversed"
   ]
  },
  {
   "cell_type": "code",
   "execution_count": 28,
   "metadata": {},
   "outputs": [
    {
     "data": {
      "text/plain": [
       "array([5, 3, 1])"
      ]
     },
     "execution_count": 28,
     "metadata": {},
     "output_type": "execute_result"
    }
   ],
   "source": [
    "x1[5::-2]  # == x1[0:5] reversed, every other element"
   ]
  },
  {
   "cell_type": "markdown",
   "metadata": {},
   "source": [
    "Multidimensional slices are separated by commas:"
   ]
  },
  {
   "cell_type": "code",
   "execution_count": 29,
   "metadata": {},
   "outputs": [
    {
     "name": "stdout",
     "output_type": "stream",
     "text": [
      "x2: [[ 4  7  5  6]\n",
      " [ 6  7  0  1]\n",
      " [ 8  3 58  2]]\n",
      "x2[:2, :3] [[4 7 5]\n",
      " [6 7 0]]\n"
     ]
    }
   ],
   "source": [
    "print(\"x2:\", x2)\n",
    "print(\"x2[:2, :3]\", x2[:2, :3]) # Two rows, three columns"
   ]
  },
  {
   "cell_type": "code",
   "execution_count": 30,
   "metadata": {},
   "outputs": [
    {
     "name": "stdout",
     "output_type": "stream",
     "text": [
      "x2[:, ::2] [[ 4  5]\n",
      " [ 6  0]\n",
      " [ 8 58]]\n"
     ]
    }
   ],
   "source": [
    "print(\"x2[:, ::2]\", x2[:, ::2]) # All rows, every other column"
   ]
  },
  {
   "cell_type": "code",
   "execution_count": 31,
   "metadata": {},
   "outputs": [
    {
     "name": "stdout",
     "output_type": "stream",
     "text": [
      "x2[::-1, :]\n",
      " [[ 8  3 58  2]\n",
      " [ 6  7  0  1]\n",
      " [ 4  7  5  6]]\n"
     ]
    }
   ],
   "source": [
    "print(\"x2[::-1, :]\\n\", x2[::-1, :]) # First dimension reversed"
   ]
  },
  {
   "cell_type": "markdown",
   "metadata": {},
   "source": [
    "Accessing a single row:"
   ]
  },
  {
   "cell_type": "code",
   "execution_count": 32,
   "metadata": {},
   "outputs": [
    {
     "name": "stdout",
     "output_type": "stream",
     "text": [
      "[ 5  0 58]\n"
     ]
    }
   ],
   "source": [
    "print(x2[:, 2]) # Third column of x2"
   ]
  },
  {
   "cell_type": "code",
   "execution_count": 33,
   "metadata": {},
   "outputs": [
    {
     "name": "stdout",
     "output_type": "stream",
     "text": [
      "[6 7 0 1]\n"
     ]
    }
   ],
   "source": [
    "print(x2[1, :]) # Second row of x2"
   ]
  },
  {
   "cell_type": "code",
   "execution_count": 34,
   "metadata": {},
   "outputs": [
    {
     "name": "stdout",
     "output_type": "stream",
     "text": [
      "[6 7 0 1]\n"
     ]
    }
   ],
   "source": [
    "print(x2[1]) # Row slices: the empty (column) slice can be omitted"
   ]
  },
  {
   "cell_type": "markdown",
   "metadata": {},
   "source": [
    "## Slices are no-copy, writable views"
   ]
  },
  {
   "cell_type": "code",
   "execution_count": 35,
   "metadata": {},
   "outputs": [
    {
     "name": "stdout",
     "output_type": "stream",
     "text": [
      "[[ 4  7  5  6]\n",
      " [ 6  7  0  1]\n",
      " [ 8  3 58  2]]\n"
     ]
    }
   ],
   "source": [
    "print(x2)"
   ]
  },
  {
   "cell_type": "code",
   "execution_count": 36,
   "metadata": {},
   "outputs": [
    {
     "name": "stdout",
     "output_type": "stream",
     "text": [
      "[[ 0  1]\n",
      " [58  2]]\n"
     ]
    }
   ],
   "source": [
    "x2_sub = x2[1:, 2:]\n",
    "print(x2_sub)"
   ]
  },
  {
   "cell_type": "code",
   "execution_count": 37,
   "metadata": {},
   "outputs": [
    {
     "name": "stdout",
     "output_type": "stream",
     "text": [
      "[[255   1]\n",
      " [ 58   2]]\n"
     ]
    }
   ],
   "source": [
    "x2_sub[0, 0] = 255\n",
    "print(x2_sub)"
   ]
  },
  {
   "cell_type": "code",
   "execution_count": 38,
   "metadata": {},
   "outputs": [
    {
     "name": "stdout",
     "output_type": "stream",
     "text": [
      "[[  4   7   5   6]\n",
      " [  6   7 255   1]\n",
      " [  8   3  58   2]]\n"
     ]
    }
   ],
   "source": [
    "print(x2)"
   ]
  },
  {
   "cell_type": "markdown",
   "metadata": {},
   "source": [
    "## Copying slices"
   ]
  },
  {
   "cell_type": "markdown",
   "metadata": {},
   "source": [
    "When it is required, the `copy()` method can be used to explicitly copy the data within an array or slices."
   ]
  },
  {
   "cell_type": "code",
   "execution_count": 39,
   "metadata": {},
   "outputs": [
    {
     "name": "stdout",
     "output_type": "stream",
     "text": [
      "[[ 0  1]\n",
      " [58  2]]\n",
      "[[  4   7   5   6]\n",
      " [  6   7 255   1]\n",
      " [  8   3  58   2]]\n"
     ]
    }
   ],
   "source": [
    "x2_sub_copy = x2[1:, 2:].copy()\n",
    "x2_sub_copy[0, 0] = 0\n",
    "print(x2_sub_copy)\n",
    "print(x2)"
   ]
  },
  {
   "cell_type": "markdown",
   "metadata": {},
   "source": [
    "## Reshaping arrays\n",
    "The `reshape()` method can change the dimensions of an array, as long as the *size* of the initial and the reshaped array are the same.  This will avoid copying where possible, but cannot be guaranteed if the memory buffers are non-contiguous."
   ]
  },
  {
   "cell_type": "code",
   "execution_count": 40,
   "metadata": {},
   "outputs": [
    {
     "name": "stdout",
     "output_type": "stream",
     "text": [
      "[1 2 3 4 5 6 7 8 9]\n",
      "[[1 2 3]\n",
      " [4 5 6]\n",
      " [7 8 9]]\n",
      "[1000    2    3    4    5    6    7    8    9]\n",
      "[[1000    2    3]\n",
      " [   7    8    9]]\n",
      "[1000    2    3    4    5    6  999    8    9]\n"
     ]
    }
   ],
   "source": [
    "vector = np.arange(1, 10)\n",
    "print(vector) # 9 elements\n",
    "matrix = vector.reshape(3, 3) # 9 elements\n",
    "print(matrix)\n",
    "matrix[0, 0] = 1000 # no-copy slice, so modifies the original vector\n",
    "print(vector)\n",
    "\n",
    "matrix2 = matrix[::2] # first and third row, 6 elements, 2x3 matrix\n",
    "print(matrix2)\n",
    "matrix2[1, 0] = 999  # Still a no-copy slice, so will modify the original vector\n",
    "print(vector)"
   ]
  },
  {
   "cell_type": "markdown",
   "metadata": {},
   "source": [
    "A common use case is to convert a one-dimensional vector into a two-dimensional column or row vector. This can be done by `reshape()` as well."
   ]
  },
  {
   "cell_type": "code",
   "execution_count": 41,
   "metadata": {},
   "outputs": [
    {
     "name": "stdout",
     "output_type": "stream",
     "text": [
      "[1 2 3]\n",
      "[[1 2 3]]\n",
      "[[1]\n",
      " [2]\n",
      " [3]]\n"
     ]
    }
   ],
   "source": [
    "vector = np.arange(1, 4) # a vector of size 3\n",
    "print(vector) # one-dimensional vector, size 3\n",
    "print(vector.reshape((1, 3))) # 2-dimensional row matrix, 1x3\n",
    "print(vector.reshape((3, 1))) # 2-dimensional column matrix, 3x1"
   ]
  },
  {
   "cell_type": "markdown",
   "metadata": {},
   "source": [
    "But it can be more convenient (and clearer) to introduce the new axis using the `np.newaxis` keyword."
   ]
  },
  {
   "cell_type": "code",
   "execution_count": 42,
   "metadata": {},
   "outputs": [
    {
     "name": "stdout",
     "output_type": "stream",
     "text": [
      "[[1 2 3]]\n",
      "[[1]\n",
      " [2]\n",
      " [3]]\n"
     ]
    }
   ],
   "source": [
    "print(vector[np.newaxis, :]) # Introduces a new first (row) dimension, making it a row matrix\n",
    "print(vector[:, np.newaxis]) # Introduces a new second (column) dimensino, making it a column matrix"
   ]
  },
  {
   "cell_type": "markdown",
   "metadata": {},
   "source": [
    "## Concatenation of arrays\n",
    "The `concatenate()` function can combine multiple arrays at once.  The arrays are provided in a list."
   ]
  },
  {
   "cell_type": "code",
   "execution_count": 43,
   "metadata": {},
   "outputs": [
    {
     "name": "stdout",
     "output_type": "stream",
     "text": [
      "[1 2 3 4 5 6 7 8 9]\n"
     ]
    }
   ],
   "source": [
    "a = np.array([1,2,3])\n",
    "b = np.array([4,5,6])\n",
    "c = np.array([7,8,9])\n",
    "print(np.concatenate([a, b, c]))"
   ]
  },
  {
   "cell_type": "markdown",
   "metadata": {},
   "source": [
    "Multi-dimensional arrays can also be concatenated. `concatenate()` takes an optional argument, `axis` that defaults to 0, telling it which axis or dimension to concatenate.  Axes are 0-indexes (that is, the rows are axis `0`, columns are axis `1`, etc.)"
   ]
  },
  {
   "cell_type": "code",
   "execution_count": 44,
   "metadata": {},
   "outputs": [
    {
     "name": "stdout",
     "output_type": "stream",
     "text": [
      "[[  1   2   3]\n",
      " [  4   5   6]\n",
      " [100 200 300]\n",
      " [400 500 600]]\n"
     ]
    }
   ],
   "source": [
    "d = np.array([[1,2,3], [4,5,6]])\n",
    "e = np.array([[100,200,300], [400,500,600]])\n",
    "print(np.concatenate([d, e], axis=0)) # concat the rows"
   ]
  },
  {
   "cell_type": "code",
   "execution_count": 45,
   "metadata": {},
   "outputs": [
    {
     "name": "stdout",
     "output_type": "stream",
     "text": [
      "[[  1   2   3 100 200 300]\n",
      " [  4   5   6 400 500 600]]\n"
     ]
    }
   ],
   "source": [
    "print(np.concatenate([d, e], axis=1)) # concatenate the columns"
   ]
  },
  {
   "cell_type": "markdown",
   "metadata": {},
   "source": [
    "This can be clearer using the `vstack()` (vertical stack) and `hstack()` functions."
   ]
  },
  {
   "cell_type": "code",
   "execution_count": 46,
   "metadata": {},
   "outputs": [
    {
     "name": "stdout",
     "output_type": "stream",
     "text": [
      "[[  1   2   3]\n",
      " [  4   5   6]\n",
      " [100 200 300]\n",
      " [400 500 600]]\n"
     ]
    }
   ],
   "source": [
    "print(np.vstack([d, e]))"
   ]
  },
  {
   "cell_type": "code",
   "execution_count": 47,
   "metadata": {},
   "outputs": [
    {
     "name": "stdout",
     "output_type": "stream",
     "text": [
      "[[  1   2   3 100 200 300]\n",
      " [  4   5   6 400 500 600]]\n"
     ]
    }
   ],
   "source": [
    "print(np.hstack([d, e]))"
   ]
  },
  {
   "cell_type": "markdown",
   "metadata": {},
   "source": [
    "If the arrays are 3-dimensional, they can also be concatenated in the third axis using `dstack()`."
   ]
  },
  {
   "cell_type": "markdown",
   "metadata": {},
   "source": [
    "## Splitting arrays\n",
    "The functions `split()`, `hsplit()`, `vsplit()`, `dsplit()` can split arrays.  They take a list of *N* indices as split points, and produce *N+1* slices. `split()` takes an argument `axis` (defaults to `0`) denoting the dimension to split, with `0` being rows, `1` being columns, and so on. `vsplit()` is equivalent to `split()` with axis `0`, `vsplit` is equivalent to `split()` with axis `1` and so on."
   ]
  },
  {
   "cell_type": "code",
   "execution_count": 48,
   "metadata": {},
   "outputs": [
    {
     "name": "stdout",
     "output_type": "stream",
     "text": [
      "[[ 0  1  2  3]\n",
      " [ 4  5  6  7]\n",
      " [ 8  9 10 11]\n",
      " [12 13 14 15]]\n",
      "[[0 1 2 3]]\n",
      "[[ 4  5  6  7]\n",
      " [ 8  9 10 11]]\n",
      "[[12 13 14 15]]\n"
     ]
    }
   ],
   "source": [
    "f = np.arange(16).reshape(4, 4) # 4x4 matrix\n",
    "print(f)\n",
    "g, h, k = np.vsplit(f, [1, 3]) # split vertically (by rows)\n",
    "print(g)\n",
    "print(h)\n",
    "print(k)"
   ]
  },
  {
   "cell_type": "code",
   "execution_count": 49,
   "metadata": {},
   "outputs": [
    {
     "name": "stdout",
     "output_type": "stream",
     "text": [
      "[[ 0]\n",
      " [ 4]\n",
      " [ 8]\n",
      " [12]]\n",
      "[[ 1  2]\n",
      " [ 5  6]\n",
      " [ 9 10]\n",
      " [13 14]]\n",
      "[[ 3]\n",
      " [ 7]\n",
      " [11]\n",
      " [15]]\n"
     ]
    }
   ],
   "source": [
    "g, h, k = np.hsplit(f, [1, 3]) # split horizontally (by columns)\n",
    "print(g)\n",
    "print(h)\n",
    "print(k)"
   ]
  },
  {
   "cell_type": "code",
   "execution_count": 50,
   "metadata": {},
   "outputs": [
    {
     "name": "stdout",
     "output_type": "stream",
     "text": [
      "[[ 1  2]\n",
      " [ 5  6]\n",
      " [ 9 10]\n",
      " [13 14]]\n"
     ]
    }
   ],
   "source": [
    "g, h, k = np.split(f, [1, 3], axis=1) # Equivalent of hsplit\n",
    "print(h)"
   ]
  },
  {
   "cell_type": "markdown",
   "metadata": {},
   "source": [
    "\n",
    "## Universal functions or *ufuncs*\n",
    "NumPy has built-in methods and functions that perform vectorized operations on arrays.\n",
    "\n",
    "### Arithmetic *ufuncs*\n",
    "NumPy has the equivalent of standard Python arithmetic operators.  They can be invoked as numpy functions, or standard Python operators (which call the ufunc behind the scenes)."
   ]
  },
  {
   "cell_type": "code",
   "execution_count": 51,
   "metadata": {},
   "outputs": [
    {
     "name": "stdout",
     "output_type": "stream",
     "text": [
      "x    = [0 1 2 3]\n",
      "x + 5  = [5 6 7 8]\n",
      "x - 5  = [-5 -4 -3 -2]\n",
      "x * 2  = [0 2 4 6]\n",
      "x / 2  = [ 0.   0.5  1.   1.5]\n",
      "x // 2 = [0 0 1 1]\n",
      "x ** 2 = [0 1 4 9]\n",
      "-x     = [ 0 -1 -2 -3]\n",
      "x % 2  = [0 1 0 1]\n",
      "abs(x - 2) = [2 1 0 1]\n"
     ]
    }
   ],
   "source": [
    "\n",
    "x = np.arange(4)\n",
    "print(\"x    =\", x)\n",
    "print(\"x + 5  =\", x + 5) # or np.add(x, 5)\n",
    "print(\"x - 5  =\", x - 5) # np.subtract\n",
    "print(\"x * 2  =\", x * 2) # np.multiply\n",
    "print(\"x / 2  =\", x / 2) # np.divide\n",
    "print(\"x // 2 =\", x // 2) # np.floor_divide\n",
    "print(\"x ** 2 =\", x ** 2) # np.power\n",
    "print(\"-x     =\", -x) # np.negative\n",
    "print(\"x % 2  =\", x % 2) # np.mod\n",
    "print(\"abs(x - 2) =\", abs(x - 2)) # np.absolute aka np.abs"
   ]
  },
  {
   "cell_type": "markdown",
   "metadata": {},
   "source": [
    "### Trigonometric *ufuncs*"
   ]
  },
  {
   "cell_type": "code",
   "execution_count": 52,
   "metadata": {},
   "outputs": [
    {
     "name": "stdout",
     "output_type": "stream",
     "text": [
      "theta      = [ 0.          1.04719755  2.0943951   3.14159265]\n",
      "sin(theta) = [  0.00000000e+00   8.66025404e-01   8.66025404e-01   1.22464680e-16]\n",
      "cos(theta) = [ 1.   0.5 -0.5 -1. ]\n",
      "tan(theta) = [  0.00000000e+00   1.73205081e+00  -1.73205081e+00  -1.22464680e-16]\n",
      "arccos(y) = [ 0.          1.04719755  2.0943951   3.14159265]\n"
     ]
    }
   ],
   "source": [
    "theta = np.linspace(0, np.pi, 4)\n",
    "print(\"theta      =\", theta)\n",
    "print(\"sin(theta) =\", np.sin(theta))\n",
    "print(\"cos(theta) =\", np.cos(theta))\n",
    "print(\"tan(theta) =\", np.tan(theta))\n",
    "y = np.cos(theta)\n",
    "print(\"arccos(y) =\", np.arccos(y))"
   ]
  },
  {
   "cell_type": "markdown",
   "metadata": {},
   "source": [
    "### Exponential *ufuncs*"
   ]
  },
  {
   "cell_type": "code",
   "execution_count": 53,
   "metadata": {},
   "outputs": [
    {
     "name": "stdout",
     "output_type": "stream",
     "text": [
      "x        = [1 2 3]\n",
      "e^x      = [  2.71828183   7.3890561   20.08553692]\n",
      "2^x      = [ 2.  4.  8.]\n",
      "3^x      = [ 3  9 27]\n",
      "ln(x)    = [ 0.          0.69314718  1.09861229]\n",
      "log2(x)  = [ 0.         1.         1.5849625]\n",
      "log10(x) = [ 0.          0.30103     0.47712125]\n"
     ]
    }
   ],
   "source": [
    "x = np.array([1, 2, 3])\n",
    "print(\"x        =\", x)\n",
    "print(\"e^x      =\", np.exp(x))\n",
    "print(\"2^x      =\", np.exp2(x))\n",
    "print(\"3^x      =\", np.power(3, x))\n",
    "print(\"ln(x)    =\", np.log(x))\n",
    "print(\"log2(x)  =\", np.log2(x))\n",
    "print(\"log10(x) =\", np.log10(x))"
   ]
  },
  {
   "cell_type": "markdown",
   "metadata": {},
   "source": [
    "Specialized exponential and log function versions useful for maintaining precision with very small inputs:"
   ]
  },
  {
   "cell_type": "code",
   "execution_count": 54,
   "metadata": {},
   "outputs": [
    {
     "name": "stdout",
     "output_type": "stream",
     "text": [
      "x = [  0.00000000e+00   1.00000000e-05   1.00000000e-02   1.00000000e-01]\n",
      "e^x - 1 = [  0.00000000e+00   1.00000500e-05   1.00501671e-02   1.05170918e-01]\n",
      "e^x - 1 = [  0.00000000e+00   1.00000500e-05   1.00501671e-02   1.05170918e-01]\n",
      "log(1 + x) = [  0.00000000e+00   9.99995000e-06   9.95033085e-03   9.53101798e-02]\n",
      "log(1 + x) = [  0.00000000e+00   9.99995000e-06   9.95033085e-03   9.53101798e-02]\n"
     ]
    }
   ],
   "source": [
    "x = np.array([0, 0.00001, 0.01, 0.1])\n",
    "print(\"x =\", x)\n",
    "print(\"e^x - 1 =\", np.exp(x) - 1)\n",
    "print(\"e^x - 1 =\", np.expm1(x))\n",
    "print(\"log(1 + x) =\", np.log(1 + x))\n",
    "print(\"log(1 + x) =\", np.log1p(x))"
   ]
  },
  {
   "cell_type": "markdown",
   "metadata": {},
   "source": [
    "### Comparison *ufuncs*\n",
    "Elements of arrays can be compared to a value, resulting an equal sized array with boolean values. The following comparison operators are available:\n",
    "\n",
    "| Operator | Equivalent ufunc |\n",
    "|:--- |:--- |\n",
    "| `==` | `np.equal` |\n",
    "| `!=` | `np.not_equal` |\n",
    "| `<` | `np.less` |\n",
    "| `<=` | `np.less_equal` |\n",
    "| `>` | `np.greater` |\n",
    "| `>=` | `np.greater_equal` |"
   ]
  },
  {
   "cell_type": "code",
   "execution_count": 55,
   "metadata": {},
   "outputs": [
    {
     "data": {
      "text/plain": [
       "array([[5, 0, 3, 3],\n",
       "       [7, 9, 3, 5],\n",
       "       [2, 4, 7, 6]])"
      ]
     },
     "execution_count": 55,
     "metadata": {},
     "output_type": "execute_result"
    }
   ],
   "source": [
    "rng = np.random.RandomState(0)\n",
    "x = rng.randint(10, size=(3,4))\n",
    "x"
   ]
  },
  {
   "cell_type": "code",
   "execution_count": 56,
   "metadata": {},
   "outputs": [
    {
     "data": {
      "text/plain": [
       "array([[ True,  True,  True,  True],\n",
       "       [False, False,  True,  True],\n",
       "       [ True,  True, False, False]], dtype=bool)"
      ]
     },
     "execution_count": 56,
     "metadata": {},
     "output_type": "execute_result"
    }
   ],
   "source": [
    "x < 6"
   ]
  },
  {
   "cell_type": "markdown",
   "metadata": {},
   "source": [
    "Two arrays can be compared element-wise."
   ]
  },
  {
   "cell_type": "markdown",
   "metadata": {},
   "source": [
    "## *ufuncs* on two arrays\n",
    "Binary ufuncs support both arguments being arrays."
   ]
  },
  {
   "cell_type": "code",
   "execution_count": 57,
   "metadata": {},
   "outputs": [
    {
     "name": "stdout",
     "output_type": "stream",
     "text": [
      "[ 4 10 18]\n"
     ]
    }
   ],
   "source": [
    "x = np.array([1,2,3])\n",
    "y = np.array([4,5,6])\n",
    "print(x * y)"
   ]
  },
  {
   "cell_type": "code",
   "execution_count": 58,
   "metadata": {},
   "outputs": [
    {
     "data": {
      "text/plain": [
       "array([False,  True, False], dtype=bool)"
      ]
     },
     "execution_count": 58,
     "metadata": {},
     "output_type": "execute_result"
    }
   ],
   "source": [
    "(2 * x) == (x ** 2)"
   ]
  },
  {
   "cell_type": "markdown",
   "metadata": {},
   "source": [
    "## Storing ufunc outputs in existing memory locations\n",
    "If the result of some calculation needs to be stored in an existing array, it can be more efficient to specify the location where the output should be stored, via the `out` parameter to numpy functions."
   ]
  },
  {
   "cell_type": "code",
   "execution_count": 59,
   "metadata": {},
   "outputs": [
    {
     "name": "stdout",
     "output_type": "stream",
     "text": [
      "[  0.  10.  20.  30.  40.]\n"
     ]
    }
   ],
   "source": [
    "x = np.arange(5)\n",
    "y = np.zeros(5)\n",
    "np.multiply(x, 10, out=y)\n",
    "print(y)"
   ]
  },
  {
   "cell_type": "markdown",
   "metadata": {},
   "source": [
    "A slice can be specified as well."
   ]
  },
  {
   "cell_type": "code",
   "execution_count": 60,
   "metadata": {},
   "outputs": [
    {
     "name": "stdout",
     "output_type": "stream",
     "text": [
      "[  1.   0.   2.   0.   4.   0.   8.   0.  16.   0.]\n"
     ]
    }
   ],
   "source": [
    "y = np.zeros(10)\n",
    "np.power(2, x, out=y[::2]) # Store result in every other location in y\n",
    "print(y)"
   ]
  },
  {
   "cell_type": "markdown",
   "metadata": {},
   "source": [
    "The above is more memory efficient that `y[[::2] = 2 ** x`."
   ]
  },
  {
   "cell_type": "markdown",
   "metadata": {},
   "source": [
    "## Aggregating ufuncs"
   ]
  },
  {
   "cell_type": "code",
   "execution_count": 61,
   "metadata": {},
   "outputs": [
    {
     "name": "stdout",
     "output_type": "stream",
     "text": [
      "[[ 0.58201979  0.53737323  0.75861562  0.10590761]\n",
      " [ 0.47360042  0.18633234  0.73691818  0.21655035]\n",
      " [ 0.13521817  0.32414101  0.14967487  0.22232139]]\n",
      "0.105907607188 0.758615624322 4.42867298389\n",
      "[ 1.19083838  1.04784658  1.64520867  0.54477935]\n",
      "[ 1.98391625  1.61340129  0.83135544]\n"
     ]
    }
   ],
   "source": [
    "M = np.random.random((3, 4))\n",
    "print(M)\n",
    "print(M.min(), M.max(), M.sum()) # or np.min(M), np.max(M), np.sum(M)\n",
    "print(M.sum(axis=0)) # sum traverses rows, i.e., sums up columns\n",
    "print(M.sum(axis=1)) # sum traverses columns, i.e., sums up rows"
   ]
  },
  {
   "cell_type": "markdown",
   "metadata": {},
   "source": [
    "## General aggregation of elements on an array\n",
    "Any binary ufunc can be applied to pairs of elements of an array along a given axis using `reduce`."
   ]
  },
  {
   "cell_type": "code",
   "execution_count": 62,
   "metadata": {},
   "outputs": [
    {
     "name": "stdout",
     "output_type": "stream",
     "text": [
      "[ 1.  2.  3.  4.  5.]\n",
      "15.0\n",
      "120.0\n",
      "0.00833333333333\n"
     ]
    }
   ],
   "source": [
    "a = np.arange(1, 6, dtype=np.float_)\n",
    "print(a)\n",
    "print(np.add.reduce(a)) # same as np.sum(a)\n",
    "print(np.multiply.reduce(a)) # same as np.prod(a)\n",
    "print(np.divide.reduce(a)) # no equivalent"
   ]
  },
  {
   "cell_type": "markdown",
   "metadata": {},
   "source": [
    "A multi-dimensioanl example:"
   ]
  },
  {
   "cell_type": "code",
   "execution_count": 63,
   "metadata": {},
   "outputs": [
    {
     "name": "stdout",
     "output_type": "stream",
     "text": [
      "[[[0 1]\n",
      "  [2 3]]\n",
      "\n",
      " [[4 5]\n",
      "  [6 7]]]\n"
     ]
    }
   ],
   "source": [
    "x = np.arange(8).reshape((2, 2, 2))\n",
    "print(x)"
   ]
  },
  {
   "cell_type": "code",
   "execution_count": 64,
   "metadata": {},
   "outputs": [
    {
     "name": "stdout",
     "output_type": "stream",
     "text": [
      "[[ 4  6]\n",
      " [ 8 10]]\n"
     ]
    }
   ],
   "source": [
    "print(np.add.reduce(x)) # axis=0 by default"
   ]
  },
  {
   "cell_type": "code",
   "execution_count": 65,
   "metadata": {},
   "outputs": [
    {
     "name": "stdout",
     "output_type": "stream",
     "text": [
      "[[ 2  4]\n",
      " [10 12]]\n"
     ]
    }
   ],
   "source": [
    "print(np.add.reduce(x, axis=1))"
   ]
  },
  {
   "cell_type": "code",
   "execution_count": 66,
   "metadata": {},
   "outputs": [
    {
     "name": "stdout",
     "output_type": "stream",
     "text": [
      "[[ 1  5]\n",
      " [ 9 13]]\n"
     ]
    }
   ],
   "source": [
    "print(np.add.reduce(x, axis=2))"
   ]
  },
  {
   "cell_type": "markdown",
   "metadata": {},
   "source": [
    "## *Broadcasting* behaviour of binary *ufuncs*\n",
    "A binary operation over two arrays will work with arrays of different sizes or dimensions under the following conditions:\n",
    "1. **Rule 1.** If the two arrays differ in their number of dimensions, the *shape* of the one with fewer dimensions is *padded* with ones on its leading (i.e., *left*) side.\n",
    "1. **Rule 2.** If the shape of the two arrays does not match in a given dimension, the array with shape equal to `1` in *that* dimension is *stretched* to match the other shape.\n",
    "1. **Rule 3.** If in any dimension the sizes disagree and neither is equal to `1`, an error is raised."
   ]
  },
  {
   "cell_type": "markdown",
   "metadata": {},
   "source": [
    "### E.g.: adding a scalar to a one-dimensional array"
   ]
  },
  {
   "cell_type": "code",
   "execution_count": 67,
   "metadata": {},
   "outputs": [
    {
     "name": "stdout",
     "output_type": "stream",
     "text": [
      "a.shape =  (3,)\n",
      "a = [0 1 2]\n"
     ]
    },
    {
     "data": {
      "text/plain": [
       "array([5, 6, 7])"
      ]
     },
     "execution_count": 67,
     "metadata": {},
     "output_type": "execute_result"
    }
   ],
   "source": [
    "a = np.arange(3)\n",
    "print(\"a.shape = \", a.shape)\n",
    "print(\"a =\", a)\n",
    "b = 5\n",
    "a + b"
   ]
  },
  {
   "cell_type": "markdown",
   "metadata": {},
   "source": [
    "1. **Rule 1.** Here, the shape of `a` is `(3,)` and `b` has no shape as it is a scalar.  By **Rule 1** `b`'s shape is padded with `1`. It becomes `[5]` with shape `(1,)`.\n",
    "1. **Rule 2.** Since `a`'s shape (`(3,)`) and `b`'s new shape (`(1,)`) do not match in the first dimension (axis `0`), by **Rule 2**, the one with shape equal to `1` in that dimension (that is, `b`) is *stretched* and it becomes `[5 5 5]` and its shape is now `(3,)`.\n",
    "1. Since the shapes and sizes of the arrays match now, their elements are added pairwise and we get the result above."
   ]
  },
  {
   "cell_type": "markdown",
   "metadata": {},
   "source": [
    "### E.g.: adding a two-dimensional array to a one-dimensional array"
   ]
  },
  {
   "cell_type": "code",
   "execution_count": 68,
   "metadata": {},
   "outputs": [
    {
     "name": "stdout",
     "output_type": "stream",
     "text": [
      "a.shape = (2, 3)\n",
      "a =\n",
      "[[ 1.  1.  1.]\n",
      " [ 1.  1.  1.]]\n",
      "b.shape = (3,)\n",
      "b = [0 1 2]\n",
      "a + b =\n",
      "[[ 1.  2.  3.]\n",
      " [ 1.  2.  3.]]\n"
     ]
    }
   ],
   "source": [
    "a = np.ones((2,3))\n",
    "print(\"a.shape =\", a.shape)\n",
    "print(\"a =\\n\" + str(a))\n",
    "b = np.arange(3)\n",
    "print(\"b.shape =\", b.shape)\n",
    "print(\"b =\", b)\n",
    "print(\"a + b =\\n\" + str(a + b))"
   ]
  },
  {
   "cell_type": "markdown",
   "metadata": {},
   "source": [
    "1. **Rule 1.** Here, the shape of `a` is `(2,3)` and `b`s shape is `(3,)`. `b`'s shape has fewer dimensions than `a`'s shape. It becomes `[[0 1 2]]` with shape `(1,3)`.\n",
    "1. **Rule 2.** Since `a`'s shape (`(2,3)`) and `b`'s new shape (`(1,3)`) do not match in the first dimension (axis `0`), by **Rule 2**, the one with shape equal to `1` in that dimension (that is, `b`) is *stretched* in that dimension and it becomes `[[0 1 2], [0 1 2]]` and its shape becomes `(2,3)`.\n",
    "1. The arrays shapes and dimensions match, so their elements are added pairwise leading to the result above."
   ]
  },
  {
   "cell_type": "markdown",
   "metadata": {},
   "source": [
    "### E.g.: both arrays broadcasted"
   ]
  },
  {
   "cell_type": "code",
   "execution_count": 69,
   "metadata": {},
   "outputs": [
    {
     "name": "stdout",
     "output_type": "stream",
     "text": [
      "a.shape = (3, 1)\n",
      "a =\n",
      "[[ 1.]\n",
      " [ 1.]\n",
      " [ 1.]]\n",
      "b.shape = (3,)\n",
      "b =\n",
      "[ 1.  1.  1.]\n",
      "a + b =\n",
      "[[ 2.  2.  2.]\n",
      " [ 2.  2.  2.]\n",
      " [ 2.  2.  2.]]\n"
     ]
    }
   ],
   "source": [
    "a = np.ones((3,1))\n",
    "b = np.ones(3)\n",
    "print(\"a.shape =\", a.shape)\n",
    "print(\"a =\")\n",
    "print(a)\n",
    "print(\"b.shape =\", b.shape)\n",
    "print(\"b =\")\n",
    "print(b)\n",
    "print(\"a + b =\")\n",
    "print(a + b)"
   ]
  },
  {
   "cell_type": "markdown",
   "metadata": {},
   "source": [
    "1. **Rule 1.** Here, the shape of `a` is `(3,1)` and `b`s shape is `(3,)`. `b`'s shape has fewer dimensions than `a`'s shape. It becomes `[[1 1 1]]` with shape `(1,3)`.\n",
    "1. **Rule 2.** Since `a`'s shape (`(3,1)`) and `b`'s new shape (`(1,3)`) do not match in the second dimension (axis `1`), by **Rule 2**, the one with shape equal to `1` in that dimension (that is, `b`) is *stretched* in that dimension and it becomes `[[1 1 1], [1 1 1]]` and it's shape becomes `(3,3)`.\n",
    "1. **Rule 2.** Now, the shape of `a` is `(3,1)` and `b`'s new shape is `(3,3)`. Since `a`'s shape and `b`'s shape do not match in the second dimension (axis `1`), the one with shape equal to `1` in that dimension (that is, `a`) is *stretched* in that dimension, and it becomes `[[1 1 1], [1 1 1], [1 1 1]]` and its shape becomes `(3,3)`.\n",
    "1. The arrays shapes and dimensions match, so their elements are added pairwise leading to the result above."
   ]
  },
  {
   "cell_type": "markdown",
   "metadata": {},
   "source": [
    "### E.g.: Arrays are not compatible"
   ]
  },
  {
   "cell_type": "code",
   "execution_count": 70,
   "metadata": {},
   "outputs": [
    {
     "name": "stdout",
     "output_type": "stream",
     "text": [
      "a.shape = (3, 2)\n",
      "a =\n",
      "[[ 1.  1.]\n",
      " [ 1.  1.]\n",
      " [ 1.  1.]]\n",
      "b.shape = (3,)\n",
      "b =\n",
      "[0 1 2]\n",
      "a + b =\n"
     ]
    },
    {
     "ename": "ValueError",
     "evalue": "operands could not be broadcast together with shapes (3,2) (3,) ",
     "output_type": "error",
     "traceback": [
      "\u001b[0;31m---------------------------------------------------------------------------\u001b[0m",
      "\u001b[0;31mValueError\u001b[0m                                Traceback (most recent call last)",
      "\u001b[0;32m<ipython-input-70-35c85190587c>\u001b[0m in \u001b[0;36m<module>\u001b[0;34m()\u001b[0m\n\u001b[1;32m      8\u001b[0m \u001b[0mprint\u001b[0m\u001b[0;34m(\u001b[0m\u001b[0mb\u001b[0m\u001b[0;34m)\u001b[0m\u001b[0;34m\u001b[0m\u001b[0m\n\u001b[1;32m      9\u001b[0m \u001b[0mprint\u001b[0m\u001b[0;34m(\u001b[0m\u001b[0;34m\"a + b =\"\u001b[0m\u001b[0;34m)\u001b[0m\u001b[0;34m\u001b[0m\u001b[0m\n\u001b[0;32m---> 10\u001b[0;31m \u001b[0mprint\u001b[0m\u001b[0;34m(\u001b[0m\u001b[0ma\u001b[0m \u001b[0;34m+\u001b[0m \u001b[0mb\u001b[0m\u001b[0;34m)\u001b[0m\u001b[0;34m\u001b[0m\u001b[0m\n\u001b[0m",
      "\u001b[0;31mValueError\u001b[0m: operands could not be broadcast together with shapes (3,2) (3,) "
     ]
    }
   ],
   "source": [
    "a = np.ones((3,2))\n",
    "b = np.arange(3)\n",
    "print(\"a.shape =\", a.shape)\n",
    "print(\"a =\")\n",
    "print(a)\n",
    "print(\"b.shape =\", b.shape)\n",
    "print(\"b =\")\n",
    "print(b)\n",
    "print(\"a + b =\")\n",
    "print(a + b)"
   ]
  },
  {
   "cell_type": "markdown",
   "metadata": {},
   "source": [
    "1. **Rule 1.** Here, the shape of `a` is `(3,2)` and `b`s shape is `(3,)`. `b`'s shape has fewer dimensions than `a`'s shape. It becomes `[[0 1 2]]` with shape `(1,3)`.\n",
    "1. **Rule 2.** Since `a`'s shape (`(3,2)`) and `b`'s new shape (`(1,3)`) do not match in the first dimension (axis `0`), by **Rule 2**, the one with shape equal to `1` in that dimension (that is, `b`) is *stretched* in that dimension and it becomes `[[1 1 1], [1 1 1], [1 1 1]]` and it's shape becomes `(3,3)`.\n",
    "1. **Rule 3.** Now the shape of `a` is `(3,2)` and b's shape is `(3,3)'.  Rule 1 does not apply as both have the same number of dimensions. Rule 2 also does not apply because although the two arrays don't have the same shape in the second dimension (axis `1`), neither of them have a value of `1` in that dimension and cannot be stretched. Hence the arrays do not have the same shape and nothing more can be done. An error is raised."
   ]
  },
  {
   "cell_type": "markdown",
   "metadata": {},
   "source": [
    "## *ufuncs* that work with boolean arrays\n",
    "Several NumPy functions work with arrays of booleans."
   ]
  },
  {
   "cell_type": "code",
   "execution_count": 75,
   "metadata": {},
   "outputs": [
    {
     "data": {
      "text/plain": [
       "array([[5, 0, 3, 3],\n",
       "       [7, 9, 3, 5],\n",
       "       [2, 4, 7, 6]])"
      ]
     },
     "execution_count": 75,
     "metadata": {},
     "output_type": "execute_result"
    }
   ],
   "source": [
    "rng = np.random.RandomState(0)\n",
    "x = rng.randint(10, size=(3,4))\n",
    "x"
   ]
  },
  {
   "cell_type": "markdown",
   "metadata": {},
   "source": [
    "We can do elementwise comparison on elements and produce an array of booleans."
   ]
  },
  {
   "cell_type": "code",
   "execution_count": 82,
   "metadata": {},
   "outputs": [
    {
     "data": {
      "text/plain": [
       "array([[ True,  True,  True,  True],\n",
       "       [False, False,  True,  True],\n",
       "       [ True,  True, False, False]], dtype=bool)"
      ]
     },
     "execution_count": 82,
     "metadata": {},
     "output_type": "execute_result"
    }
   ],
   "source": [
    "x < 6"
   ]
  },
  {
   "cell_type": "markdown",
   "metadata": {},
   "source": [
    "How many values less than 6?"
   ]
  },
  {
   "cell_type": "code",
   "execution_count": 76,
   "metadata": {},
   "outputs": [
    {
     "data": {
      "text/plain": [
       "8"
      ]
     },
     "execution_count": 76,
     "metadata": {},
     "output_type": "execute_result"
    }
   ],
   "source": [
    "np.count_nonzero(x < 6) # False is treated as 0"
   ]
  },
  {
   "cell_type": "markdown",
   "metadata": {},
   "source": [
    "Are any values greater than 8?"
   ]
  },
  {
   "cell_type": "code",
   "execution_count": 78,
   "metadata": {},
   "outputs": [
    {
     "data": {
      "text/plain": [
       "True"
      ]
     },
     "execution_count": 78,
     "metadata": {},
     "output_type": "execute_result"
    }
   ],
   "source": [
    "np.any(x > 8)"
   ]
  },
  {
   "cell_type": "markdown",
   "metadata": {},
   "source": [
    "Are all values less than 10?"
   ]
  },
  {
   "cell_type": "code",
   "execution_count": 79,
   "metadata": {},
   "outputs": [
    {
     "data": {
      "text/plain": [
       "True"
      ]
     },
     "execution_count": 79,
     "metadata": {},
     "output_type": "execute_result"
    }
   ],
   "source": [
    "np.all(x < 10)"
   ]
  },
  {
   "cell_type": "markdown",
   "metadata": {},
   "source": [
    "`all()` and `any()` can work on specific axes.  E.g., which rows have at least one value greater than 5?"
   ]
  },
  {
   "cell_type": "code",
   "execution_count": 81,
   "metadata": {},
   "outputs": [
    {
     "data": {
      "text/plain": [
       "array([False,  True,  True], dtype=bool)"
      ]
     },
     "execution_count": 81,
     "metadata": {},
     "output_type": "execute_result"
    }
   ],
   "source": [
    "np.any(x > 5, axis=1)"
   ]
  },
  {
   "cell_type": "markdown",
   "metadata": {},
   "source": [
    "## Boolean operators\n",
    "NumPy has functions that perform logical operations on boolean arrays.  They are actually bitwise-arithmetic operators, that treat `False` as `0` and `True` as `1`, but can also work on numeric values.\n",
    "\n",
    "Operator | Equivalent ufunc\n",
    "--- | ---\n",
    "`&` | `np.bitwise_and`\n",
    "<code>&#124;</code> | `np.bitwise_or`\n",
    "`^` | `np.bitwise_xor`\n",
    "`~` | `np.bitwise_not`\n"
   ]
  },
  {
   "cell_type": "code",
   "execution_count": 83,
   "metadata": {},
   "outputs": [
    {
     "data": {
      "text/plain": [
       "array([[5, 0, 3, 3],\n",
       "       [7, 9, 3, 5],\n",
       "       [2, 4, 7, 6]])"
      ]
     },
     "execution_count": 83,
     "metadata": {},
     "output_type": "execute_result"
    }
   ],
   "source": [
    "x"
   ]
  },
  {
   "cell_type": "code",
   "execution_count": 88,
   "metadata": {},
   "outputs": [
    {
     "data": {
      "text/plain": [
       "array([[ True, False,  True,  True],\n",
       "       [False, False,  True,  True],\n",
       "       [False,  True, False, False]], dtype=bool)"
      ]
     },
     "execution_count": 88,
     "metadata": {},
     "output_type": "execute_result"
    }
   ],
   "source": [
    "(x < 6) & (x > 2)"
   ]
  },
  {
   "cell_type": "markdown",
   "metadata": {},
   "source": [
    "## Boolean arrays as *masks*\n",
    "We can use a boolean array to select only those elements from a source array that correspond to a `True` value in the boolean array.  The returned value is a single dimensional array (row vector)."
   ]
  },
  {
   "cell_type": "code",
   "execution_count": 89,
   "metadata": {},
   "outputs": [
    {
     "data": {
      "text/plain": [
       "array([[5, 0, 3, 3],\n",
       "       [7, 9, 3, 5],\n",
       "       [2, 4, 7, 6]])"
      ]
     },
     "execution_count": 89,
     "metadata": {},
     "output_type": "execute_result"
    }
   ],
   "source": [
    "x"
   ]
  },
  {
   "cell_type": "code",
   "execution_count": 92,
   "metadata": {},
   "outputs": [
    {
     "data": {
      "text/plain": [
       "array([[ True,  True,  True,  True],\n",
       "       [False, False,  True,  True],\n",
       "       [ True,  True, False, False]], dtype=bool)"
      ]
     },
     "execution_count": 92,
     "metadata": {},
     "output_type": "execute_result"
    }
   ],
   "source": [
    "y = x < 6\n",
    "y"
   ]
  },
  {
   "cell_type": "markdown",
   "metadata": {},
   "source": [
    "To select only those values from `x` where `x > 6` is `True`, we have to use the boolean array as an index."
   ]
  },
  {
   "cell_type": "code",
   "execution_count": 94,
   "metadata": {},
   "outputs": [
    {
     "data": {
      "text/plain": [
       "array([5, 0, 3, 3, 3, 5, 2, 4])"
      ]
     },
     "execution_count": 94,
     "metadata": {},
     "output_type": "execute_result"
    }
   ],
   "source": [
    "x[y] # Or simply, x[x < 6]"
   ]
  },
  {
   "cell_type": "markdown",
   "metadata": {},
   "source": [
    "## Fancy indexing\n",
    "Array indices need not only be integers.  They can be arrays as well.  This is *fancy* indexing."
   ]
  },
  {
   "cell_type": "code",
   "execution_count": 102,
   "metadata": {},
   "outputs": [
    {
     "data": {
      "text/plain": [
       "array([9, 4, 4, 6, 4, 4, 3, 4, 4, 8])"
      ]
     },
     "execution_count": 102,
     "metadata": {},
     "output_type": "execute_result"
    }
   ],
   "source": [
    "a = np.random.randint(10, size=(10))\n",
    "a"
   ]
  },
  {
   "cell_type": "code",
   "execution_count": 105,
   "metadata": {},
   "outputs": [
    {
     "data": {
      "text/plain": [
       "array([4, 4, 3])"
      ]
     },
     "execution_count": 105,
     "metadata": {},
     "output_type": "execute_result"
    }
   ],
   "source": [
    "idx = np.array([1,5,6])\n",
    "a[idx]"
   ]
  },
  {
   "cell_type": "markdown",
   "metadata": {},
   "source": [
    "Indexes can be multi-dimensional. The returned value has the shape of the **index** and not the source array."
   ]
  },
  {
   "cell_type": "code",
   "execution_count": 110,
   "metadata": {},
   "outputs": [
    {
     "data": {
      "text/plain": [
       "array([[4, 4],\n",
       "       [6, 4]])"
      ]
     },
     "execution_count": 110,
     "metadata": {},
     "output_type": "execute_result"
    }
   ],
   "source": [
    "idx = np.array([[1,2],[3,4]])\n",
    "a[idx] # indexing into a one-dimensional array with a two-dimensional index"
   ]
  },
  {
   "cell_type": "markdown",
   "metadata": {},
   "source": [
    "We can combine integer indexes or slices with *fancy* indexes."
   ]
  },
  {
   "cell_type": "code",
   "execution_count": 108,
   "metadata": {},
   "outputs": [
    {
     "data": {
      "text/plain": [
       "array([[1, 2, 3],\n",
       "       [4, 5, 6],\n",
       "       [7, 8, 9]])"
      ]
     },
     "execution_count": 108,
     "metadata": {},
     "output_type": "execute_result"
    }
   ],
   "source": [
    "M = np.arange(1,10).reshape((3,3))\n",
    "M"
   ]
  },
  {
   "cell_type": "code",
   "execution_count": 112,
   "metadata": {},
   "outputs": [
    {
     "data": {
      "text/plain": [
       "array([[6, 5],\n",
       "       [9, 8]])"
      ]
     },
     "execution_count": 112,
     "metadata": {},
     "output_type": "execute_result"
    }
   ],
   "source": [
    "M[1:, np.array([2,1])]"
   ]
  },
  {
   "cell_type": "markdown",
   "metadata": {},
   "source": [
    "### Use case: selecting random points\n",
    "Here we have an array representing 100 2-dimensional points."
   ]
  },
  {
   "cell_type": "code",
   "execution_count": 114,
   "metadata": {},
   "outputs": [
    {
     "data": {
      "text/plain": [
       "(100, 2)"
      ]
     },
     "execution_count": 114,
     "metadata": {},
     "output_type": "execute_result"
    }
   ],
   "source": [
    "mean = [0, 0]; cov = [[1, 2], [2,5]]\n",
    "X = np.random.multivariate_normal(mean, cov, 100)\n",
    "X.shape"
   ]
  },
  {
   "cell_type": "markdown",
   "metadata": {},
   "source": [
    "We can pull out 10 distinct random points like so:"
   ]
  },
  {
   "cell_type": "code",
   "execution_count": 115,
   "metadata": {},
   "outputs": [
    {
     "data": {
      "text/plain": [
       "array([99, 60, 36, 31, 90,  2, 61, 18, 45, 12])"
      ]
     },
     "execution_count": 115,
     "metadata": {},
     "output_type": "execute_result"
    }
   ],
   "source": [
    "idx = np.random.choice(X.shape[0], 10, replace=False)\n",
    "idx"
   ]
  },
  {
   "cell_type": "code",
   "execution_count": 117,
   "metadata": {},
   "outputs": [
    {
     "data": {
      "text/plain": [
       "(10, 2)"
      ]
     },
     "execution_count": 117,
     "metadata": {},
     "output_type": "execute_result"
    }
   ],
   "source": [
    "selection = X[idx]\n",
    "selection.shape"
   ]
  },
  {
   "cell_type": "markdown",
   "metadata": {},
   "source": [
    "### Assigning with fancy indexing\n",
    "Fancy indexing can be used to modify parts of an array (just as with integer or slice indexes).  But there are gotchas if some indexes repeat."
   ]
  },
  {
   "cell_type": "code",
   "execution_count": 118,
   "metadata": {},
   "outputs": [
    {
     "data": {
      "text/plain": [
       "array([ 0, 99, 99,  3, 99,  5,  6,  7, 99,  9])"
      ]
     },
     "execution_count": 118,
     "metadata": {},
     "output_type": "execute_result"
    }
   ],
   "source": [
    "# Simple case, non-reperating indexes\n",
    "x = np.arange(10)\n",
    "idx = np.array([2,1,8,4])\n",
    "x[idx] = 99\n",
    "x"
   ]
  },
  {
   "cell_type": "code",
   "execution_count": 119,
   "metadata": {},
   "outputs": [
    {
     "data": {
      "text/plain": [
       "array([ 0, -9, -8,  3, -6,  5,  6,  7, -2,  9])"
      ]
     },
     "execution_count": 119,
     "metadata": {},
     "output_type": "execute_result"
    }
   ],
   "source": [
    "# Simple case, non-repeating indexes, in-place mutation (or what looks like it)\n",
    "x = np.arange(10)\n",
    "idx = np.array([2,1,8,4])\n",
    "x[idx] -= 10\n",
    "x"
   ]
  },
  {
   "cell_type": "markdown",
   "metadata": {},
   "source": [
    "What if the indexes repeated in the above operation?  Would `-10` be applied to repeated index multiple times?"
   ]
  },
  {
   "cell_type": "code",
   "execution_count": 126,
   "metadata": {},
   "outputs": [
    {
     "data": {
      "text/plain": [
       "array([ 0,  1, -8,  3, -6,  5,  6,  7, -2,  9])"
      ]
     },
     "execution_count": 126,
     "metadata": {},
     "output_type": "execute_result"
    }
   ],
   "source": [
    "x = np.arange(10)\n",
    "idx = np.array([2,2,8,4])\n",
    "x[idx] -= 10\n",
    "x"
   ]
  },
  {
   "cell_type": "markdown",
   "metadata": {},
   "source": [
    "It looks like `-10` was applied to `x[2]` only once.\n",
    "\n",
    "This is because, `a[i] -= b` is translated to `a[i] = a[i] - b`.  `a[i] - b` is evaluated first, twice, getting the same value (`x[2] - 10 -> -8`). Then the value is put in the location `a[i]`. So the same value ends up getting assigned twice.\n",
    "\n",
    "Another example:"
   ]
  },
  {
   "cell_type": "code",
   "execution_count": 123,
   "metadata": {},
   "outputs": [
    {
     "data": {
      "text/plain": [
       "array([ 6.,  0.,  0.,  0.,  0.,  0.,  0.,  0.,  0.,  0.])"
      ]
     },
     "execution_count": 123,
     "metadata": {},
     "output_type": "execute_result"
    }
   ],
   "source": [
    "x = np.zeros(10)\n",
    "x[[0, 0]] = [4, 6]\n",
    "x"
   ]
  },
  {
   "cell_type": "markdown",
   "metadata": {},
   "source": [
    "It looks like only the value `6` was assigned.  Actually, though, first the value `4` was assigned to `x[0]`, and then the value `6` was assigned to `x[0]` again, over-writing the previous value."
   ]
  },
  {
   "cell_type": "markdown",
   "metadata": {},
   "source": [
    "### Assigning to a repeated index, with repeated application\n",
    "What if we wanted `-10` to really be applied to a location as many times as an index showed up? We can use the `at` modifier to NumPy *ufuncs* for this."
   ]
  },
  {
   "cell_type": "code",
   "execution_count": 125,
   "metadata": {},
   "outputs": [
    {
     "data": {
      "text/plain": [
       "array([  0,   1, -18,   3,   4,   5,   6,   7,   8,   9])"
      ]
     },
     "execution_count": 125,
     "metadata": {},
     "output_type": "execute_result"
    }
   ],
   "source": [
    "x = np.arange(10)\n",
    "idx = np.array([2,2])\n",
    "np.subtract.at(x, idx, 10)\n",
    "x"
   ]
  },
  {
   "cell_type": "markdown",
   "metadata": {},
   "source": [
    "## Sorting"
   ]
  },
  {
   "cell_type": "code",
   "execution_count": 127,
   "metadata": {},
   "outputs": [
    {
     "data": {
      "text/plain": [
       "array([2, 1, 4, 3, 5])"
      ]
     },
     "execution_count": 127,
     "metadata": {},
     "output_type": "execute_result"
    }
   ],
   "source": [
    "x = np.array([2,1,4,3,5])\n",
    "x"
   ]
  },
  {
   "cell_type": "code",
   "execution_count": 128,
   "metadata": {},
   "outputs": [
    {
     "data": {
      "text/plain": [
       "array([1, 2, 3, 4, 5])"
      ]
     },
     "execution_count": 128,
     "metadata": {},
     "output_type": "execute_result"
    }
   ],
   "source": [
    "np.sort(x)"
   ]
  },
  {
   "cell_type": "code",
   "execution_count": 129,
   "metadata": {},
   "outputs": [
    {
     "data": {
      "text/plain": [
       "array([1, 0, 3, 2, 4])"
      ]
     },
     "execution_count": 129,
     "metadata": {},
     "output_type": "execute_result"
    }
   ],
   "source": [
    "np.argsort(x) # Instead of getting a new sorted array, get the indexes of the values in sorted order"
   ]
  },
  {
   "cell_type": "code",
   "execution_count": 130,
   "metadata": {},
   "outputs": [
    {
     "data": {
      "text/plain": [
       "array([[6, 6, 4, 1, 5, 4],\n",
       "       [5, 5, 6, 3, 8, 1],\n",
       "       [4, 2, 9, 7, 4, 1],\n",
       "       [8, 2, 3, 3, 4, 1]])"
      ]
     },
     "execution_count": 130,
     "metadata": {},
     "output_type": "execute_result"
    }
   ],
   "source": [
    "x = np.random.randint(0, 10, (4, 6))\n",
    "x"
   ]
  },
  {
   "cell_type": "code",
   "execution_count": 131,
   "metadata": {},
   "outputs": [
    {
     "data": {
      "text/plain": [
       "array([[4, 2, 3, 1, 4, 1],\n",
       "       [5, 2, 4, 3, 4, 1],\n",
       "       [6, 5, 6, 3, 5, 1],\n",
       "       [8, 6, 9, 7, 8, 4]])"
      ]
     },
     "execution_count": 131,
     "metadata": {},
     "output_type": "execute_result"
    }
   ],
   "source": [
    "# sort columns\n",
    "np.sort(x, axis=0)"
   ]
  },
  {
   "cell_type": "code",
   "execution_count": 132,
   "metadata": {},
   "outputs": [
    {
     "data": {
      "text/plain": [
       "array([[1, 4, 4, 5, 6, 6],\n",
       "       [1, 3, 5, 5, 6, 8],\n",
       "       [1, 2, 4, 4, 7, 9],\n",
       "       [1, 2, 3, 3, 4, 8]])"
      ]
     },
     "execution_count": 132,
     "metadata": {},
     "output_type": "execute_result"
    }
   ],
   "source": [
    "# sort rows\n",
    "np.sort(x, axis=1)"
   ]
  },
  {
   "cell_type": "markdown",
   "metadata": {},
   "source": [
    "## K-smallest values\n",
    "The `partition` function splits an array into *K* smalles values, and the remainder."
   ]
  },
  {
   "cell_type": "code",
   "execution_count": 134,
   "metadata": {},
   "outputs": [
    {
     "data": {
      "text/plain": [
       "array([1, 2, 3, 7, 6, 5, 4])"
      ]
     },
     "execution_count": 134,
     "metadata": {},
     "output_type": "execute_result"
    }
   ],
   "source": [
    "x = np.array([7,2,3,1,6,5,4])\n",
    "np.partition(x, 2) # smalles 2 values to the left of the partition, rest to the right"
   ]
  },
  {
   "cell_type": "markdown",
   "metadata": {},
   "source": [
    "Note that the resulting array is not sorted. It just gurantess that the first `K` values are the smallest\n",
    "`K` values in the array.  Within the two partitions, the elements can have random order."
   ]
  },
  {
   "cell_type": "markdown",
   "metadata": {},
   "source": [
    "## Compound data types"
   ]
  },
  {
   "cell_type": "code",
   "execution_count": 156,
   "metadata": {},
   "outputs": [
    {
     "data": {
      "text/plain": [
       "array([('Bob', 32,  85.), ('Alice', 23,  55.), ('Diana', 43,  65.),\n",
       "       ('Susan', 19,  37.)],\n",
       "      dtype=[('name', '<U10'), ('age', '<i4'), ('weight', '<f8')])"
      ]
     },
     "execution_count": 156,
     "metadata": {},
     "output_type": "execute_result"
    }
   ],
   "source": [
    "data = np.zeros(4, dtype=np.dtype([ ('name', 'U10'), ('age', 'i4'), ('weight', 'f8') ]))\n",
    "\n",
    "names    = ['Bob', 'Alice', 'Diana', 'Susan']\n",
    "ages     = [ 32,    23,      43,      19]\n",
    "weights  = [ 85.,   55.,     65.,     37]\n",
    "\n",
    "data['name']   = names\n",
    "data['age']    = ages\n",
    "data['weight'] = weights\n",
    "\n",
    "data"
   ]
  },
  {
   "cell_type": "code",
   "execution_count": 157,
   "metadata": {},
   "outputs": [
    {
     "data": {
      "text/plain": [
       "('Bob', 32,  85.)"
      ]
     },
     "execution_count": 157,
     "metadata": {},
     "output_type": "execute_result"
    }
   ],
   "source": [
    "data[0]"
   ]
  },
  {
   "cell_type": "code",
   "execution_count": 158,
   "metadata": {},
   "outputs": [
    {
     "data": {
      "text/plain": [
       "'Susan'"
      ]
     },
     "execution_count": 158,
     "metadata": {},
     "output_type": "execute_result"
    }
   ],
   "source": [
    "data[-1]['name']"
   ]
  },
  {
   "cell_type": "code",
   "execution_count": 159,
   "metadata": {},
   "outputs": [
    {
     "data": {
      "text/plain": [
       "array(['Diana'],\n",
       "      dtype='<U10')"
      ]
     },
     "execution_count": 159,
     "metadata": {},
     "output_type": "execute_result"
    }
   ],
   "source": [
    "data[data['age'] > 40]['name']"
   ]
  },
  {
   "cell_type": "markdown",
   "metadata": {},
   "source": [
    "### More advanced compound data types\n",
    "Here is a data type with an integer field named `id` and a 3x3 matrix valued field named `mat`."
   ]
  },
  {
   "cell_type": "code",
   "execution_count": 151,
   "metadata": {},
   "outputs": [
    {
     "data": {
      "text/plain": [
       "dtype([('id', '<i4'), ('mat', '<f8', (3, 3))])"
      ]
     },
     "execution_count": 151,
     "metadata": {},
     "output_type": "execute_result"
    }
   ],
   "source": [
    "tp = np.dtype([ ('id', 'i4'), ('mat', 'f8', (3,3))])\n",
    "tp"
   ]
  },
  {
   "cell_type": "code",
   "execution_count": 152,
   "metadata": {},
   "outputs": [
    {
     "name": "stdout",
     "output_type": "stream",
     "text": [
      "(0, [[ 0.,  0.,  0.], [ 0.,  0.,  0.], [ 0.,  0.,  0.]])\n",
      "[[ 0.  0.  0.]\n",
      " [ 0.  0.  0.]\n",
      " [ 0.  0.  0.]]\n"
     ]
    }
   ],
   "source": [
    "X = np.zeros(1, dtype=tp)\n",
    "print(X[0])\n",
    "print(X['mat'][0])"
   ]
  },
  {
   "cell_type": "markdown",
   "metadata": {},
   "source": [
    "### RecordArrays\n",
    "`np.recarray` is a data type that allows you to access the fields of the compound data type using attributes, instead as dictionary keys.  This could be more convenient or readable.  However, it has a higher cost for accessing the data."
   ]
  },
  {
   "cell_type": "code",
   "execution_count": 153,
   "metadata": {},
   "outputs": [
    {
     "data": {
      "text/plain": [
       "array([(0, [[ 0.,  0.,  0.], [ 0.,  0.,  0.], [ 0.,  0.,  0.]])],\n",
       "      dtype=[('id', '<i4'), ('mat', '<f8', (3, 3))])"
      ]
     },
     "execution_count": 153,
     "metadata": {},
     "output_type": "execute_result"
    }
   ],
   "source": [
    "X"
   ]
  },
  {
   "cell_type": "code",
   "execution_count": 160,
   "metadata": {},
   "outputs": [
    {
     "data": {
      "text/plain": [
       "rec.array([('Bob', 32,  85.), ('Alice', 23,  55.), ('Diana', 43,  65.),\n",
       "           ('Susan', 19,  37.)], \n",
       "          dtype=[('name', '<U10'), ('age', '<i4'), ('weight', '<f8')])"
      ]
     },
     "execution_count": 160,
     "metadata": {},
     "output_type": "execute_result"
    }
   ],
   "source": [
    "data_rec = data.view(np.recarray)\n",
    "data_rec"
   ]
  },
  {
   "cell_type": "code",
   "execution_count": 161,
   "metadata": {},
   "outputs": [
    {
     "data": {
      "text/plain": [
       "array([32, 23, 43, 19], dtype=int32)"
      ]
     },
     "execution_count": 161,
     "metadata": {},
     "output_type": "execute_result"
    }
   ],
   "source": [
    "data_rec.age"
   ]
  },
  {
   "cell_type": "code",
   "execution_count": 162,
   "metadata": {},
   "outputs": [
    {
     "data": {
      "text/plain": [
       "'Bob'"
      ]
     },
     "execution_count": 162,
     "metadata": {},
     "output_type": "execute_result"
    }
   ],
   "source": [
    "data_rec[0].name"
   ]
  },
  {
   "cell_type": "markdown",
   "metadata": {},
   "source": [
    "As mentioned before, there is greater performance overhead in accessing the data from a recarray, even using the dictionary syntx."
   ]
  },
  {
   "cell_type": "code",
   "execution_count": 163,
   "metadata": {},
   "outputs": [
    {
     "name": "stdout",
     "output_type": "stream",
     "text": [
      "94.8 ns ± 0.461 ns per loop (mean ± std. dev. of 7 runs, 10000000 loops each)\n",
      "2.57 µs ± 70.5 ns per loop (mean ± std. dev. of 7 runs, 100000 loops each)\n",
      "3.2 µs ± 56.8 ns per loop (mean ± std. dev. of 7 runs, 100000 loops each)\n"
     ]
    }
   ],
   "source": [
    "%timeit data['age']\n",
    "%timeit data_rec['age']\n",
    "%timeit data_rec.age"
   ]
  }
 ],
 "metadata": {
  "kernelspec": {
   "display_name": "Python 3",
   "language": "python",
   "name": "python3"
  },
  "language_info": {
   "codemirror_mode": {
    "name": "ipython",
    "version": 3
   },
   "file_extension": ".py",
   "mimetype": "text/x-python",
   "name": "python",
   "nbconvert_exporter": "python",
   "pygments_lexer": "ipython3",
   "version": "3.6.3"
  }
 },
 "nbformat": 4,
 "nbformat_minor": 2
}
